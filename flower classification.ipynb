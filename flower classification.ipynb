{
 "cells": [
  {
   "cell_type": "code",
   "execution_count": 8,
   "id": "63ab1628",
   "metadata": {},
   "outputs": [
    {
     "name": "stdout",
     "output_type": "stream",
     "text": [
      "Sample Data:\n",
      "      sepal_length  sepal_width  petal_length  petal_width          species\n",
      "90            5.5          2.6           4.4          1.2  Iris-versicolor\n",
      "75            6.6          3.0           4.4          1.4  Iris-versicolor\n",
      "130           7.4          2.8           6.1          1.9   Iris-virginica\n",
      "107           7.3          2.9           6.3          1.8   Iris-virginica\n",
      "54            6.5          2.8           4.6          1.5  Iris-versicolor\n",
      "\n",
      "Species Distribution:\n",
      " species\n",
      "Iris-setosa        50\n",
      "Iris-versicolor    50\n",
      "Iris-virginica     50\n",
      "Name: count, dtype: int64\n",
      "\n",
      "Accuracy: 92.11%\n",
      "\n",
      "Classification Report:\n",
      "                  precision    recall  f1-score   support\n",
      "\n",
      "    Iris-setosa       1.00      1.00      1.00        12\n",
      "Iris-versicolor       0.86      0.92      0.89        13\n",
      " Iris-virginica       0.92      0.85      0.88        13\n",
      "\n",
      "       accuracy                           0.92        38\n",
      "      macro avg       0.92      0.92      0.92        38\n",
      "   weighted avg       0.92      0.92      0.92        38\n",
      "\n"
     ]
    },
    {
     "data": {
      "image/png": "[encoded data removed]",
      "text/plain": [
       "<Figure size 640x480 with 1 Axes>"
      ]
     },
     "metadata": {},
     "output_type": "display_data"
    }
   ],
   "source": [
    "\n",
    "import pandas as pd\n",
    "import matplotlib.pyplot as plt\n",
    "from sklearn.preprocessing import LabelEncoder\n",
    "from sklearn.model_selection import train_test_split\n",
    "from sklearn.tree import DecisionTreeClassifier\n",
    "from sklearn.metrics import accuracy_score, classification_report\n",
    "\n",
    "\n",
    "df = pd.read_csv(\"IRIS.csv\")\n",
    "print(\"Sample Data:\\n\", df.sample(5))\n",
    "print(\"\\nSpecies Distribution:\\n\", df['species'].value_counts())\n",
    "\n",
    "encoder = LabelEncoder()\n",
    "df['species_encoded'] = encoder.fit_transform(df['species'])\n",
    "\n",
    "X = df.iloc[:, :4]                  \n",
    "y = df['species_encoded']         \n",
    "\n",
    "\n",
    "X_train, X_test, y_train, y_test = train_test_split(\n",
    "    X, y, test_size=0.25, stratify=y, random_state=42\n",
    ")\n",
    "\n",
    "\n",
    "model = DecisionTreeClassifier(\n",
    "    criterion='entropy',\n",
    "    max_depth=4,\n",
    "    min_samples_split=5,\n",
    "    random_state=42\n",
    ")\n",
    "model.fit(X_train, y_train)\n",
    "\n",
    "\n",
    "predictions = model.predict(X_test)\n",
    "\n",
    "print(\"\\nAccuracy: {:.2f}%\".format(accuracy_score(y_test, predictions) * 100))\n",
    "print(\"\\nClassification Report:\\n\", classification_report(y_test, predictions, target_names=encoder.classes_))\n",
    "\n",
    "\n",
    "feature_importance = model.feature_importances_\n",
    "features = X.columns\n",
    "\n",
    "plt.barh(features, feature_importance, color='mediumslateblue')\n",
    "plt.xlabel(\"Importance Score\")\n",
    "plt.title(\"Feature Importance - Iris Dataset\")\n",
    "plt.tight_layout()\n",
    "plt.show()\n"
   ]
  }
 ],
 "metadata": {
  "kernelspec": {
   "display_name": "Python 3",
   "language": "python",
   "name": "python3"
  },
  "language_info": {
   "codemirror_mode": {
    "name": "ipython",
    "version": 3
   },
   "file_extension": ".py",
   "mimetype": "text/x-python",
   "name": "python",
   "nbconvert_exporter": "python",
   "pygments_lexer": "ipython3",
   "version": "3.11.9"
  }
 },
 "nbformat": 4,
 "nbformat_minor": 5
}
